{
  "nbformat": 4,
  "nbformat_minor": 0,
  "metadata": {
    "colab": {
      "name": "Hackerschool: Python Automation - YouTube Download.ipynb",
      "provenance": [],
      "collapsed_sections": []
    },
    "kernelspec": {
      "name": "python3",
      "display_name": "Python 3"
    }
  },
  "cells": [
    {
      "cell_type": "markdown",
      "metadata": {
        "id": "BqeGfEJyL6cd",
        "colab_type": "text"
      },
      "source": [
        "# Hackerschool: Python Automation - Hypothetical YouTube Video Download\n",
        "\n",
        "This notebook is part of the materials used for the Hackerschool: Python Automation workshop held on 5 Sept 2020, held by NUS Hackers.\n",
        "\n",
        "Created by Christopher Goh (email: chris@nushackers.org)\n",
        "\n",
        "**Remember to make a copy of this notebook, or else your changes won't save.**\n",
        "\n",
        "**Go to \"File\" > \"Save a copy in Drive\"**"
      ]
    },
    {
      "cell_type": "markdown",
      "metadata": {
        "id": "FlxQKNuYMpp_",
        "colab_type": "text"
      },
      "source": [
        "## Problem Statement\n",
        "\n",
        "Your Dad sent you a whole bunch of YouTube links that he found while browsing YouTube. He tells you he wants the YouTube videos to be downloaded and in MP3 song format.\n",
        "\n",
        "**You tell him no! That is illegal!**\n",
        "\n",
        "But then as a curious hacker, you still try to explore the possibility of doing so with your newfound Python skills."
      ]
    },
    {
      "cell_type": "code",
      "metadata": {
        "id": "S2Mflh2dMVLu",
        "colab_type": "code",
        "colab": {}
      },
      "source": [
        "!git clone --depth=1 https://github.com/chrisgzf/hackerschool_python_automation.git hackerschool"
      ],
      "execution_count": null,
      "outputs": []
    },
    {
      "cell_type": "markdown",
      "metadata": {
        "id": "TsZ5HgESODPG",
        "colab_type": "text"
      },
      "source": [
        "If you click on the folder icon on the left, you'll now see that the files are downloaded to your Colab notebook."
      ]
    },
    {
      "cell_type": "code",
      "metadata": {
        "id": "Amw1RtSWUIbq",
        "colab_type": "code",
        "colab": {}
      },
      "source": [
        "with open(\"hackerschool/youtube.txt\", \"r\") as f:\n",
        "    print(f.read())"
      ],
      "execution_count": null,
      "outputs": []
    },
    {
      "cell_type": "markdown",
      "metadata": {
        "id": "p2XOUyT3V5dv",
        "colab_type": "text"
      },
      "source": [
        "Ooooh wow now we have a file with YouTube links! Let's try to preprocess them into a list of links."
      ]
    },
    {
      "cell_type": "code",
      "metadata": {
        "id": "iKt72aBi5VjX",
        "colab_type": "code",
        "colab": {}
      },
      "source": [
        "with open(\"hackerschool/youtube.txt\", \"r\") as f:\n",
        "    yt_links = f.readlines()\n",
        "\n",
        "yt_links"
      ],
      "execution_count": null,
      "outputs": []
    },
    {
      "cell_type": "code",
      "metadata": {
        "id": "z2kcY4mNU2Cy",
        "colab_type": "code",
        "colab": {}
      },
      "source": [
        "import youtube_dl"
      ],
      "execution_count": null,
      "outputs": []
    },
    {
      "cell_type": "code",
      "metadata": {
        "id": "stbEszmr50us",
        "colab_type": "code",
        "colab": {}
      },
      "source": [
        "!pip install youtube_dl"
      ],
      "execution_count": null,
      "outputs": []
    },
    {
      "cell_type": "code",
      "metadata": {
        "id": "da9w7E7i558b",
        "colab_type": "code",
        "colab": {}
      },
      "source": [
        "import youtube_dl"
      ],
      "execution_count": null,
      "outputs": []
    },
    {
      "cell_type": "markdown",
      "metadata": {
        "id": "AgW1nb_MWMi6",
        "colab_type": "text"
      },
      "source": [
        "`youtube_dl` is a 3rd party Python library that helps us download YouTube videos.\n",
        "\n",
        "Let's try downloading a video first.\n"
      ]
    },
    {
      "cell_type": "code",
      "metadata": {
        "id": "0mNiEpGCWLf4",
        "colab_type": "code",
        "colab": {}
      },
      "source": [
        "# this is the sample code from youtube_dl's documentation\n",
        "\n",
        "ydl_opts = {}\n",
        "with youtube_dl.YoutubeDL(ydl_opts) as ydl:\n",
        "    ydl.download(['https://www.youtube.com/watch?v=BaW_jenozKc'])"
      ],
      "execution_count": null,
      "outputs": []
    },
    {
      "cell_type": "markdown",
      "metadata": {
        "id": "L2kv2LE-Y4Ik",
        "colab_type": "text"
      },
      "source": [
        "Wow! Okay, this looks pretty easy and it works. But it's a video, so how do we download it as a mp3 file now?"
      ]
    },
    {
      "cell_type": "code",
      "metadata": {
        "id": "xI68EeCKW2FO",
        "colab_type": "code",
        "colab": {}
      },
      "source": [
        "ydl_opts = {\n",
        "    'format': 'bestaudio/best',\n",
        "    'postprocessors': [{\n",
        "        'key': 'FFmpegExtractAudio',\n",
        "        'preferredcodec': 'mp3',\n",
        "        'preferredquality': '192',\n",
        "    }],\n",
        "}\n",
        "\n",
        "with youtube_dl.YoutubeDL(ydl_opts) as ydl:\n",
        "    ydl.download(['https://www.youtube.com/watch?v=BaW_jenozKc'])"
      ],
      "execution_count": null,
      "outputs": []
    },
    {
      "cell_type": "markdown",
      "metadata": {
        "id": "f1jN6tz8ZLMX",
        "colab_type": "text"
      },
      "source": [
        "Okay now we managed to download the mp3 file of the video. Let's do it on our list of videos then."
      ]
    },
    {
      "cell_type": "code",
      "metadata": {
        "id": "ou6iWe1eZA4o",
        "colab_type": "code",
        "colab": {}
      },
      "source": [
        "ydl_opts = {\n",
        "    'format': 'bestaudio/best',\n",
        "    'postprocessors': [{\n",
        "        'key': 'FFmpegExtractAudio',\n",
        "        'preferredcodec': 'mp3',\n",
        "        'preferredquality': '192',\n",
        "    }],\n",
        "}\n",
        "\n",
        "with youtube_dl.YoutubeDL(ydl_opts) as ydl:\n",
        "    ydl.download(yt_links)"
      ],
      "execution_count": null,
      "outputs": []
    },
    {
      "cell_type": "markdown",
      "metadata": {
        "id": "wNf5XnkiaSFm",
        "colab_type": "text"
      },
      "source": [
        "And tada! As simple as that!"
      ]
    },
    {
      "cell_type": "code",
      "metadata": {
        "id": "EheSYFdIsHDm",
        "colab_type": "code",
        "colab": {}
      },
      "source": [
        ""
      ],
      "execution_count": null,
      "outputs": []
    }
  ]
}