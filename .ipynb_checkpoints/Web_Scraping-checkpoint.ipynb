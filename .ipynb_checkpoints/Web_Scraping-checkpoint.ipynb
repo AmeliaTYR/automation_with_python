{
 "cells": [
  {
   "cell_type": "markdown",
   "metadata": {
    "colab_type": "text",
    "id": "BqeGfEJyL6cd"
   },
   "source": [
    "# Hackerschool: Python Automation - Web Scraping\n",
    "\n",
    "This notebook is part of the materials used for the Hackerschool: Python Automation workshop held on 5 Sept 2020, held by NUS Hackers.\n",
    "\n",
    "Created by Christopher Goh (email: chris@nushackers.org)\n",
    "\n",
    "**Remember to make a copy of this notebook, or else your changes won't save.**\n",
    "\n",
    "**Go to \"File\" > \"Save a copy in Drive\"**"
   ]
  },
  {
   "cell_type": "markdown",
   "metadata": {
    "colab_type": "text",
    "id": "FlxQKNuYMpp_"
   },
   "source": [
    "## Problem Statement\n",
    "\n",
    "We are going to use Python to help us count who sent the most messages in the \"NUS Hackers Chat\" public chat group!\n",
    "\n",
    "First, let's download the exported chat logs that we will use for this tutorial. Run the command below."
   ]
  },
  {
   "cell_type": "code",
   "execution_count": null,
   "metadata": {
    "colab": {},
    "colab_type": "code",
    "id": "S2Mflh2dMVLu"
   },
   "outputs": [],
   "source": [
    "!git clone --depth=1 https://github.com/chrisgzf/hackerschool_python_automation.git hackerschool"
   ]
  },
  {
   "cell_type": "markdown",
   "metadata": {
    "colab_type": "text",
    "id": "TsZ5HgESODPG"
   },
   "source": [
    "If you click on the folder icon on the left, you'll now see that the files are downloaded to your Colab notebook."
   ]
  },
  {
   "cell_type": "code",
   "execution_count": null,
   "metadata": {
    "colab": {},
    "colab_type": "code",
    "id": "qLUekvWUL5Vy"
   },
   "outputs": [],
   "source": [
    "from glob import glob"
   ]
  },
  {
   "cell_type": "markdown",
   "metadata": {
    "colab_type": "text",
    "id": "W9CIw28fTEiL"
   },
   "source": [
    "`glob` is a built in Python Library. It helps us to isolate the html files"
   ]
  },
  {
   "cell_type": "code",
   "execution_count": null,
   "metadata": {
    "colab": {},
    "colab_type": "code",
    "id": "3rK5bXWNN_Q0"
   },
   "outputs": [],
   "source": [
    "exported_message_files = glob(\"hackerschool/web_scraping/ChatExport_2020-09-05/*.html\")\n",
    "exported_message_files"
   ]
  },
  {
   "cell_type": "code",
   "execution_count": null,
   "metadata": {
    "colab": {},
    "colab_type": "code",
    "id": "VMGz-G8jTQm7"
   },
   "outputs": [],
   "source": [
    "len(exported_message_files)"
   ]
  },
  {
   "cell_type": "markdown",
   "metadata": {
    "colab_type": "text",
    "id": "JJLrt88pUNbE"
   },
   "source": [
    "Let's see how one of the message files look like."
   ]
  },
  {
   "cell_type": "code",
   "execution_count": null,
   "metadata": {
    "colab": {},
    "colab_type": "code",
    "id": "Amw1RtSWUIbq"
   },
   "outputs": [],
   "source": [
    "with open(\"hackerschool/web_scraping/ChatExport_2020-09-05/messages.html\", \"r\") as f:\n",
    "    print(''.join(f.readlines()[:20]))"
   ]
  },
  {
   "cell_type": "markdown",
   "metadata": {
    "colab_type": "text",
    "id": "p2XOUyT3V5dv"
   },
   "source": [
    "Ooooh what is this weird \"code\" thing? I think it's **HTML**\n",
    "\n",
    "**back to slides**"
   ]
  },
  {
   "cell_type": "code",
   "execution_count": null,
   "metadata": {
    "colab": {},
    "colab_type": "code",
    "id": "z2kcY4mNU2Cy"
   },
   "outputs": [],
   "source": [
    "from bs4 import BeautifulSoup"
   ]
  },
  {
   "cell_type": "markdown",
   "metadata": {
    "colab_type": "text",
    "id": "AgW1nb_MWMi6"
   },
   "source": [
    "BeautifulSoup is a 3rd party Python library that helps us parse HTML files\n",
    "\n",
    "Let's try just parsing 1 file first!\n",
    "\n",
    "We'll start with `messages.html`\n"
   ]
  },
  {
   "cell_type": "code",
   "execution_count": null,
   "metadata": {
    "colab": {},
    "colab_type": "code",
    "id": "0mNiEpGCWLf4"
   },
   "outputs": [],
   "source": [
    "soup = BeautifulSoup(open(\"hackerschool/web_scraping/ChatExport_2020-09-05/messages.html\", \"r\"))"
   ]
  },
  {
   "cell_type": "markdown",
   "metadata": {
    "colab_type": "text",
    "id": "L2kv2LE-Y4Ik"
   },
   "source": [
    "Let's start with something simple first! Let's try to figure out who has spoken in the chat before."
   ]
  },
  {
   "cell_type": "code",
   "execution_count": null,
   "metadata": {
    "colab": {},
    "colab_type": "code",
    "id": "xI68EeCKW2FO"
   },
   "outputs": [],
   "source": [
    "soup.select(\".from_name\")[:10]"
   ]
  },
  {
   "cell_type": "markdown",
   "metadata": {
    "colab_type": "text",
    "id": "f1jN6tz8ZLMX"
   },
   "source": [
    "Hmmm, still a little messy. Let's try to really just extract the names."
   ]
  },
  {
   "cell_type": "code",
   "execution_count": null,
   "metadata": {
    "colab": {},
    "colab_type": "code",
    "id": "ou6iWe1eZA4o"
   },
   "outputs": [],
   "source": [
    "raw_names = [div.contents[0].strip() for div in soup.select(\".from_name\")]\n",
    "raw_names"
   ]
  },
  {
   "cell_type": "markdown",
   "metadata": {
    "colab_type": "text",
    "id": "wNf5XnkiaSFm"
   },
   "source": [
    "Wow! Those are a lot of names! \n",
    "\n",
    "**Challenge 1:** A lot of these names are repeated. How do I get a list of unique names in the chat?\n",
    "\n",
    "**Challenge 2:** How do I count how many unique names I have?"
   ]
  },
  {
   "cell_type": "code",
   "execution_count": null,
   "metadata": {
    "colab": {},
    "colab_type": "code",
    "id": "Jpoq0BMUaRmQ"
   },
   "outputs": [],
   "source": [
    "# write challenge 1 answer here"
   ]
  },
  {
   "cell_type": "code",
   "execution_count": null,
   "metadata": {
    "colab": {},
    "colab_type": "code",
    "id": "HH5OwbDbaiOA"
   },
   "outputs": [],
   "source": [
    "# write challenge 2 answer here"
   ]
  },
  {
   "cell_type": "markdown",
   "metadata": {
    "colab_type": "text",
    "id": "MvNn3gfOba0M"
   },
   "source": [
    "Nice! 😄😄 So we managed to use Python to **help us count how many people have spoken in our chat group**!"
   ]
  },
  {
   "cell_type": "markdown",
   "metadata": {
    "colab_type": "text",
    "id": "prdsTWzVbuIe"
   },
   "source": [
    "But that was just a short introduction to the powers of BeautifulSoup. Let's get back to our task. **We need to count how many messages each user has sent.**"
   ]
  },
  {
   "cell_type": "code",
   "execution_count": null,
   "metadata": {
    "colab": {},
    "colab_type": "code",
    "id": "AKcajTJTbagN"
   },
   "outputs": [],
   "source": [
    "raw_names[:15]"
   ]
  },
  {
   "cell_type": "markdown",
   "metadata": {
    "colab_type": "text",
    "id": "wApNytJSZJ-r"
   },
   "source": [
    "Let's look at this closely. Can we just take `raw_names`, count it, and then we'll get the right number of messages?"
   ]
  },
  {
   "cell_type": "code",
   "execution_count": null,
   "metadata": {
    "colab": {},
    "colab_type": "code",
    "id": "pzm9mYuNdT7o"
   },
   "outputs": [],
   "source": [
    "all_messages = soup.select(\".message.default\")\n",
    "all_messages[:3]"
   ]
  },
  {
   "cell_type": "markdown",
   "metadata": {
    "colab_type": "text",
    "id": "VK05q9MmjIzr"
   },
   "source": [
    "How does 1 message look like?"
   ]
  },
  {
   "cell_type": "code",
   "execution_count": null,
   "metadata": {
    "colab": {},
    "colab_type": "code",
    "id": "kT2WC7S_i3CP"
   },
   "outputs": [],
   "source": [
    "one_message = all_messages[2]\n",
    "one_message"
   ]
  },
  {
   "cell_type": "code",
   "execution_count": null,
   "metadata": {
    "colab": {},
    "colab_type": "code",
    "id": "o0ccOSZWjLrT"
   },
   "outputs": [],
   "source": [
    "one_message.select(\".from_name\")"
   ]
  },
  {
   "cell_type": "code",
   "execution_count": null,
   "metadata": {
    "colab": {},
    "colab_type": "code",
    "id": "IQuOisTFjYPs"
   },
   "outputs": [],
   "source": [
    "one_message.select(\".from_name\")[0].contents[0].strip()"
   ]
  },
  {
   "cell_type": "markdown",
   "metadata": {
    "colab_type": "text",
    "id": "uECdjpG5j4kC"
   },
   "source": [
    "Let's print every message's sender"
   ]
  },
  {
   "cell_type": "code",
   "execution_count": null,
   "metadata": {
    "colab": {},
    "colab_type": "code",
    "id": "dBnjvtKHjqkM"
   },
   "outputs": [],
   "source": [
    "for message in all_messages:\n",
    "    print(message.select(\".from_name\")[0].contents[0].strip())"
   ]
  },
  {
   "cell_type": "code",
   "execution_count": null,
   "metadata": {
    "colab": {},
    "colab_type": "code",
    "id": "HPuu76eKkEzB"
   },
   "outputs": [],
   "source": [
    "for message in all_messages:\n",
    "    print(message.select(\".from_name\"))"
   ]
  },
  {
   "cell_type": "code",
   "execution_count": null,
   "metadata": {
    "colab": {},
    "colab_type": "code",
    "id": "omAlH4TpkR_S"
   },
   "outputs": [],
   "source": [
    "for message in all_messages:\n",
    "    sender = message.select(\".from_name\");\n",
    "    if not sender:\n",
    "        # message has no sender\n",
    "        print(\"someone sent this\")\n",
    "    else:\n",
    "        # message has sender\n",
    "        print(sender[0].contents[0].strip())"
   ]
  },
  {
   "cell_type": "markdown",
   "metadata": {
    "colab_type": "text",
    "id": "-IpAKrwJmObQ"
   },
   "source": [
    "Great! We are getting somewhere!\n",
    "\n",
    "**Challenge 3:** Let's change all the \"someone sent this\" to the last seen name. How do we do this?"
   ]
  },
  {
   "cell_type": "code",
   "execution_count": null,
   "metadata": {
    "colab": {},
    "colab_type": "code",
    "id": "crEOsQnskpGn"
   },
   "outputs": [],
   "source": [
    "# same code snippet as just now, edit the code here!\n",
    "\n",
    "for message in all_messages:\n",
    "    sender = message.select(\".from_name\");\n",
    "    if not sender:\n",
    "        # message has no sender\n",
    "        print(\"someone sent this\")\n",
    "    else:\n",
    "        # message has sender\n",
    "        print(sender[0].contents[0].strip())"
   ]
  },
  {
   "cell_type": "markdown",
   "metadata": {
    "colab_type": "text",
    "id": "kcjWHSJQnWHG"
   },
   "source": [
    "Now that we know how to get the right names associated with each message, let's try to count them.\n",
    "\n",
    "First, let's convert the names into a proper list of names."
   ]
  },
  {
   "cell_type": "code",
   "execution_count": null,
   "metadata": {
    "colab": {},
    "colab_type": "code",
    "id": "Iyd7iGssnVI4"
   },
   "outputs": [],
   "source": [
    "last_seen_sender = ''\n",
    "all_names = []\n",
    "\n",
    "for message in all_messages:\n",
    "    sender = message.select(\".from_name\");\n",
    "    if not sender:\n",
    "        # message has no sender\n",
    "        all_names.append(last_seen_sender)\n",
    "    else:\n",
    "        # message has sender\n",
    "        last_seen_sender = sender[0].contents[0].strip()\n",
    "        all_names.append(last_seen_sender)\n",
    "\n",
    "all_names"
   ]
  },
  {
   "cell_type": "code",
   "execution_count": null,
   "metadata": {
    "colab": {},
    "colab_type": "code",
    "id": "fpTDZqQvlXlh"
   },
   "outputs": [],
   "source": [
    "len(all_names) == len(all_messages)"
   ]
  },
  {
   "cell_type": "markdown",
   "metadata": {
    "colab_type": "text",
    "id": "_EtGlj3boN0T"
   },
   "source": [
    "So now, we have a proper list of names, how do we count?"
   ]
  },
  {
   "cell_type": "code",
   "execution_count": null,
   "metadata": {
    "colab": {},
    "colab_type": "code",
    "id": "3iosuOkaoKPM"
   },
   "outputs": [],
   "source": [
    "import pandas as pd"
   ]
  },
  {
   "cell_type": "markdown",
   "metadata": {
    "colab_type": "text",
    "id": "fMcGzTMKoV0o"
   },
   "source": [
    "Pandas is a very popular data wrangling library in Python. This is a library that can make it super easy for us to count stuff."
   ]
  },
  {
   "cell_type": "code",
   "execution_count": null,
   "metadata": {
    "colab": {},
    "colab_type": "code",
    "id": "-EReXSRJoVW5"
   },
   "outputs": [],
   "source": [
    "df = pd.DataFrame(all_names)\n",
    "df"
   ]
  },
  {
   "cell_type": "code",
   "execution_count": null,
   "metadata": {
    "colab": {},
    "colab_type": "code",
    "id": "Fd1txPIQopot"
   },
   "outputs": [],
   "source": [
    "df[0].value_counts()"
   ]
  },
  {
   "cell_type": "markdown",
   "metadata": {
    "colab_type": "text",
    "id": "1Zj_RX7Qo7yR"
   },
   "source": [
    "Yay we achieved our task! But wait, now your boss wants to see your work, so you can't possibly just send him in this format right?"
   ]
  },
  {
   "cell_type": "code",
   "execution_count": null,
   "metadata": {
    "colab": {},
    "colab_type": "code",
    "id": "F60NrpD9owAl"
   },
   "outputs": [],
   "source": [
    "df[0].value_counts().plot(kind='bar', figsize=(12, 5))"
   ]
  },
  {
   "cell_type": "markdown",
   "metadata": {
    "colab_type": "text",
    "id": "z1rWyrDgpuxV"
   },
   "source": [
    "Are we done yet?\n",
    "\n",
    "**No! We only did it on 1/9 files!**\n",
    "\n",
    "But relax! This is Python, so it should be very easy for you to repeat the same thing 9 times right?"
   ]
  },
  {
   "cell_type": "code",
   "execution_count": null,
   "metadata": {
    "colab": {},
    "colab_type": "code",
    "id": "9soqz0qopIKE"
   },
   "outputs": [],
   "source": [
    "exported_message_files"
   ]
  },
  {
   "cell_type": "code",
   "execution_count": null,
   "metadata": {
    "colab": {},
    "colab_type": "code",
    "id": "rYLHzxNCp_-f"
   },
   "outputs": [],
   "source": [
    "all_names = [] # we keep this outside the for loop, so that it keeps\n",
    "# track of all names across all files\n",
    "\n",
    "last_seen_sender = ''\n",
    "\n",
    "for message_file in exported_message_files:\n",
    "    # use bsoup to open up individual HTML file\n",
    "    soup = BeautifulSoup(open(message_file, \"r\"))\n",
    "\n",
    "    # select all messages\n",
    "    all_messages = soup.select(\".message.default\")\n",
    "\n",
    "    # process every individual message\n",
    "    for message in all_messages:\n",
    "        sender = message.select(\".from_name\");\n",
    "        if not sender:\n",
    "            # message has no sender\n",
    "            all_names.append(last_seen_sender)\n",
    "        else:\n",
    "            # message has sender\n",
    "            last_seen_sender = sender[0].contents[0].strip()\n",
    "            all_names.append(last_seen_sender)\n",
    "\n",
    "len(all_names)"
   ]
  },
  {
   "cell_type": "code",
   "execution_count": null,
   "metadata": {
    "colab": {},
    "colab_type": "code",
    "id": "3-qCzDuerLxY"
   },
   "outputs": [],
   "source": [
    "df = pd.DataFrame(all_names)\n",
    "df[0].value_counts()"
   ]
  },
  {
   "cell_type": "code",
   "execution_count": null,
   "metadata": {
    "colab": {},
    "colab_type": "code",
    "id": "v4TWPE6Prbst"
   },
   "outputs": [],
   "source": [
    "df[0].value_counts().plot(kind='bar', figsize=(24, 5))"
   ]
  },
  {
   "cell_type": "markdown",
   "metadata": {
    "colab_type": "text",
    "id": "BPHlmQbSsEPF"
   },
   "source": [
    "Can you spot your name there? 😇😇\n",
    "\n",
    "😡😡 If you don't spot your name there 😡😡\n",
    "\n",
    "Do join us at our Telegram chat at t.me/nushackers_chat! 😇😇\n",
    "\n",
    "Great job on completing this! There are many other cool things you can do with this:\n",
    "1. Can you generate a word cloud of the messages?\n",
    "1. Can you generate a chart of the group's average chat activity at different timings?\n",
    "1. Can you feed all the messages that is discussed into a machine learning model, and make the machine learning model \"talk like a NUS Hacker\"?"
   ]
  },
  {
   "cell_type": "code",
   "execution_count": null,
   "metadata": {
    "colab": {},
    "colab_type": "code",
    "id": "EheSYFdIsHDm"
   },
   "outputs": [],
   "source": []
  }
 ],
 "metadata": {
  "colab": {
   "collapsed_sections": [],
   "name": "Hackerschool: Python Automation - Web Scraping.ipynb",
   "provenance": []
  },
  "kernelspec": {
   "display_name": "Python 3",
   "language": "python",
   "name": "python3"
  },
  "language_info": {
   "codemirror_mode": {
    "name": "ipython",
    "version": 3
   },
   "file_extension": ".py",
   "mimetype": "text/x-python",
   "name": "python",
   "nbconvert_exporter": "python",
   "pygments_lexer": "ipython3",
   "version": "3.7.6"
  }
 },
 "nbformat": 4,
 "nbformat_minor": 1
}
