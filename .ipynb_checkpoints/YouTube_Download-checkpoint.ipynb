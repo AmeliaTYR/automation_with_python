{
 "cells": [
  {
   "cell_type": "markdown",
   "metadata": {
    "colab_type": "text",
    "id": "BqeGfEJyL6cd"
   },
   "source": [
    "# Hackerschool: Python Automation - Hypothetical YouTube Video Download\n",
    "\n",
    "This notebook is part of the materials used for the Hackerschool: Python Automation workshop held on 5 Sept 2020, held by NUS Hackers.\n",
    "\n",
    "Created by Christopher Goh (email: chris@nushackers.org)\n",
    "\n",
    "**Remember to make a copy of this notebook, or else your changes won't save.**\n",
    "\n",
    "**Go to \"File\" > \"Save a copy in Drive\"**"
   ]
  },
  {
   "cell_type": "markdown",
   "metadata": {
    "colab_type": "text",
    "id": "FlxQKNuYMpp_"
   },
   "source": [
    "## Problem Statement\n",
    "\n",
    "Your Dad sent you a whole bunch of YouTube links that he found while browsing YouTube. He tells you he wants the YouTube videos to be downloaded and in MP3 song format.\n",
    "\n",
    "**You tell him no! That is illegal!**\n",
    "\n",
    "But then as a curious hacker, you still try to explore the possibility of doing so with your newfound Python skills."
   ]
  },
  {
   "cell_type": "code",
   "execution_count": null,
   "metadata": {
    "colab": {},
    "colab_type": "code",
    "id": "S2Mflh2dMVLu"
   },
   "outputs": [],
   "source": [
    "!git clone --depth=1 https://github.com/chrisgzf/hackerschool_python_automation.git hackerschool"
   ]
  },
  {
   "cell_type": "markdown",
   "metadata": {
    "colab_type": "text",
    "id": "TsZ5HgESODPG"
   },
   "source": [
    "If you click on the folder icon on the left, you'll now see that the files are downloaded to your Colab notebook."
   ]
  },
  {
   "cell_type": "code",
   "execution_count": null,
   "metadata": {
    "colab": {},
    "colab_type": "code",
    "id": "Amw1RtSWUIbq"
   },
   "outputs": [],
   "source": [
    "with open(\"hackerschool/youtube.txt\", \"r\") as f:\n",
    "    print(f.read())"
   ]
  },
  {
   "cell_type": "markdown",
   "metadata": {
    "colab_type": "text",
    "id": "p2XOUyT3V5dv"
   },
   "source": [
    "Ooooh wow now we have a file with YouTube links! Let's try to preprocess them into a list of links."
   ]
  },
  {
   "cell_type": "code",
   "execution_count": null,
   "metadata": {
    "colab": {},
    "colab_type": "code",
    "id": "iKt72aBi5VjX"
   },
   "outputs": [],
   "source": [
    "with open(\"hackerschool/youtube.txt\", \"r\") as f:\n",
    "    yt_links = f.readlines()\n",
    "\n",
    "yt_links"
   ]
  },
  {
   "cell_type": "code",
   "execution_count": null,
   "metadata": {
    "colab": {},
    "colab_type": "code",
    "id": "z2kcY4mNU2Cy"
   },
   "outputs": [],
   "source": [
    "import youtube_dl"
   ]
  },
  {
   "cell_type": "code",
   "execution_count": null,
   "metadata": {
    "colab": {},
    "colab_type": "code",
    "id": "stbEszmr50us"
   },
   "outputs": [],
   "source": [
    "!pip install youtube_dl"
   ]
  },
  {
   "cell_type": "code",
   "execution_count": null,
   "metadata": {
    "colab": {},
    "colab_type": "code",
    "id": "da9w7E7i558b"
   },
   "outputs": [],
   "source": [
    "import youtube_dl"
   ]
  },
  {
   "cell_type": "markdown",
   "metadata": {
    "colab_type": "text",
    "id": "AgW1nb_MWMi6"
   },
   "source": [
    "`youtube_dl` is a 3rd party Python library that helps us download YouTube videos.\n",
    "\n",
    "Let's try downloading a video first.\n"
   ]
  },
  {
   "cell_type": "code",
   "execution_count": null,
   "metadata": {
    "colab": {},
    "colab_type": "code",
    "id": "0mNiEpGCWLf4"
   },
   "outputs": [],
   "source": [
    "# this is the sample code from youtube_dl's documentation\n",
    "\n",
    "ydl_opts = {}\n",
    "with youtube_dl.YoutubeDL(ydl_opts) as ydl:\n",
    "    ydl.download(['https://www.youtube.com/watch?v=BaW_jenozKc'])"
   ]
  },
  {
   "cell_type": "markdown",
   "metadata": {
    "colab_type": "text",
    "id": "L2kv2LE-Y4Ik"
   },
   "source": [
    "Wow! Okay, this looks pretty easy and it works. But it's a video, so how do we download it as a mp3 file now?"
   ]
  },
  {
   "cell_type": "code",
   "execution_count": null,
   "metadata": {
    "colab": {},
    "colab_type": "code",
    "id": "xI68EeCKW2FO"
   },
   "outputs": [],
   "source": [
    "ydl_opts = {\n",
    "    'format': 'bestaudio/best',\n",
    "    'postprocessors': [{\n",
    "        'key': 'FFmpegExtractAudio',\n",
    "        'preferredcodec': 'mp3',\n",
    "        'preferredquality': '192',\n",
    "    }],\n",
    "}\n",
    "\n",
    "with youtube_dl.YoutubeDL(ydl_opts) as ydl:\n",
    "    ydl.download(['https://www.youtube.com/watch?v=BaW_jenozKc'])"
   ]
  },
  {
   "cell_type": "markdown",
   "metadata": {
    "colab_type": "text",
    "id": "f1jN6tz8ZLMX"
   },
   "source": [
    "Okay now we managed to download the mp3 file of the video. Let's do it on our list of videos then."
   ]
  },
  {
   "cell_type": "code",
   "execution_count": null,
   "metadata": {
    "colab": {},
    "colab_type": "code",
    "id": "ou6iWe1eZA4o"
   },
   "outputs": [],
   "source": [
    "ydl_opts = {\n",
    "    'format': 'bestaudio/best',\n",
    "    'postprocessors': [{\n",
    "        'key': 'FFmpegExtractAudio',\n",
    "        'preferredcodec': 'mp3',\n",
    "        'preferredquality': '192',\n",
    "    }],\n",
    "}\n",
    "\n",
    "with youtube_dl.YoutubeDL(ydl_opts) as ydl:\n",
    "    ydl.download(yt_links)"
   ]
  },
  {
   "cell_type": "markdown",
   "metadata": {
    "colab_type": "text",
    "id": "wNf5XnkiaSFm"
   },
   "source": [
    "And tada! As simple as that!"
   ]
  },
  {
   "cell_type": "code",
   "execution_count": null,
   "metadata": {
    "colab": {},
    "colab_type": "code",
    "id": "EheSYFdIsHDm"
   },
   "outputs": [],
   "source": []
  }
 ],
 "metadata": {
  "colab": {
   "collapsed_sections": [],
   "name": "Hackerschool: Python Automation - YouTube Download.ipynb",
   "provenance": []
  },
  "kernelspec": {
   "display_name": "Python 3",
   "language": "python",
   "name": "python3"
  },
  "language_info": {
   "codemirror_mode": {
    "name": "ipython",
    "version": 3
   },
   "file_extension": ".py",
   "mimetype": "text/x-python",
   "name": "python",
   "nbconvert_exporter": "python",
   "pygments_lexer": "ipython3",
   "version": "3.7.6"
  }
 },
 "nbformat": 4,
 "nbformat_minor": 1
}
