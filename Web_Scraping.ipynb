{
  "nbformat": 4,
  "nbformat_minor": 0,
  "metadata": {
    "colab": {
      "name": "Hackerschool: Python Automation - Web Scraping.ipynb",
      "provenance": [],
      "collapsed_sections": []
    },
    "kernelspec": {
      "name": "python3",
      "display_name": "Python 3"
    }
  },
  "cells": [
    {
      "cell_type": "markdown",
      "metadata": {
        "id": "BqeGfEJyL6cd",
        "colab_type": "text"
      },
      "source": [
        "# Hackerschool: Python Automation - Web Scraping\n",
        "\n",
        "This notebook is part of the materials used for the Hackerschool: Python Automation workshop held on 5 Sept 2020, held by NUS Hackers.\n",
        "\n",
        "Created by Christopher Goh (email: chris@nushackers.org)\n",
        "\n",
        "**Remember to make a copy of this notebook, or else your changes won't save.**\n",
        "\n",
        "**Go to \"File\" > \"Save a copy in Drive\"**"
      ]
    },
    {
      "cell_type": "markdown",
      "metadata": {
        "id": "FlxQKNuYMpp_",
        "colab_type": "text"
      },
      "source": [
        "## Problem Statement\n",
        "\n",
        "We are going to use Python to help us count who sent the most messages in the \"NUS Hackers Chat\" public chat group!\n",
        "\n",
        "First, let's download the exported chat logs that we will use for this tutorial. Run the command below."
      ]
    },
    {
      "cell_type": "code",
      "metadata": {
        "id": "S2Mflh2dMVLu",
        "colab_type": "code",
        "colab": {}
      },
      "source": [
        "!git clone --depth=1 https://github.com/chrisgzf/hackerschool_python_automation.git hackerschool"
      ],
      "execution_count": null,
      "outputs": []
    },
    {
      "cell_type": "markdown",
      "metadata": {
        "id": "TsZ5HgESODPG",
        "colab_type": "text"
      },
      "source": [
        "If you click on the folder icon on the left, you'll now see that the files are downloaded to your Colab notebook."
      ]
    },
    {
      "cell_type": "code",
      "metadata": {
        "id": "qLUekvWUL5Vy",
        "colab_type": "code",
        "colab": {}
      },
      "source": [
        "from glob import glob"
      ],
      "execution_count": null,
      "outputs": []
    },
    {
      "cell_type": "markdown",
      "metadata": {
        "id": "W9CIw28fTEiL",
        "colab_type": "text"
      },
      "source": [
        "`glob` is a built in Python Library. It helps us to isolate the html files"
      ]
    },
    {
      "cell_type": "code",
      "metadata": {
        "id": "3rK5bXWNN_Q0",
        "colab_type": "code",
        "colab": {}
      },
      "source": [
        "exported_message_files = glob(\"hackerschool/web_scraping/ChatExport_2020-09-05/*.html\")\n",
        "exported_message_files"
      ],
      "execution_count": null,
      "outputs": []
    },
    {
      "cell_type": "code",
      "metadata": {
        "id": "VMGz-G8jTQm7",
        "colab_type": "code",
        "colab": {}
      },
      "source": [
        "len(exported_message_files)"
      ],
      "execution_count": null,
      "outputs": []
    },
    {
      "cell_type": "markdown",
      "metadata": {
        "id": "JJLrt88pUNbE",
        "colab_type": "text"
      },
      "source": [
        "Let's see how one of the message files look like."
      ]
    },
    {
      "cell_type": "code",
      "metadata": {
        "id": "Amw1RtSWUIbq",
        "colab_type": "code",
        "colab": {}
      },
      "source": [
        "with open(\"hackerschool/web_scraping/ChatExport_2020-09-05/messages.html\", \"r\") as f:\n",
        "    print(''.join(f.readlines()[:20]))"
      ],
      "execution_count": null,
      "outputs": []
    },
    {
      "cell_type": "markdown",
      "metadata": {
        "id": "p2XOUyT3V5dv",
        "colab_type": "text"
      },
      "source": [
        "Ooooh what is this weird \"code\" thing? I think it's **HTML**\n",
        "\n",
        "**back to slides**"
      ]
    },
    {
      "cell_type": "code",
      "metadata": {
        "id": "z2kcY4mNU2Cy",
        "colab_type": "code",
        "colab": {}
      },
      "source": [
        "from bs4 import BeautifulSoup"
      ],
      "execution_count": null,
      "outputs": []
    },
    {
      "cell_type": "markdown",
      "metadata": {
        "id": "AgW1nb_MWMi6",
        "colab_type": "text"
      },
      "source": [
        "BeautifulSoup is a 3rd party Python library that helps us parse HTML files\n",
        "\n",
        "Let's try just parsing 1 file first!\n",
        "\n",
        "We'll start with `messages.html`\n"
      ]
    },
    {
      "cell_type": "code",
      "metadata": {
        "id": "0mNiEpGCWLf4",
        "colab_type": "code",
        "colab": {}
      },
      "source": [
        "soup = BeautifulSoup(open(\"hackerschool/web_scraping/ChatExport_2020-09-05/messages.html\", \"r\"))"
      ],
      "execution_count": null,
      "outputs": []
    },
    {
      "cell_type": "markdown",
      "metadata": {
        "id": "L2kv2LE-Y4Ik",
        "colab_type": "text"
      },
      "source": [
        "Let's start with something simple first! Let's try to figure out who has spoken in the chat before."
      ]
    },
    {
      "cell_type": "code",
      "metadata": {
        "id": "xI68EeCKW2FO",
        "colab_type": "code",
        "colab": {}
      },
      "source": [
        "soup.select(\".from_name\")[:10]"
      ],
      "execution_count": null,
      "outputs": []
    },
    {
      "cell_type": "markdown",
      "metadata": {
        "id": "f1jN6tz8ZLMX",
        "colab_type": "text"
      },
      "source": [
        "Hmmm, still a little messy. Let's try to really just extract the names."
      ]
    },
    {
      "cell_type": "code",
      "metadata": {
        "id": "ou6iWe1eZA4o",
        "colab_type": "code",
        "colab": {}
      },
      "source": [
        "raw_names = [div.contents[0].strip() for div in soup.select(\".from_name\")]\n",
        "raw_names"
      ],
      "execution_count": null,
      "outputs": []
    },
    {
      "cell_type": "markdown",
      "metadata": {
        "id": "wNf5XnkiaSFm",
        "colab_type": "text"
      },
      "source": [
        "Wow! Those are a lot of names! \n",
        "\n",
        "**Challenge 1:** A lot of these names are repeated. How do I get a list of unique names in the chat?\n",
        "\n",
        "**Challenge 2:** How do I count how many unique names I have?"
      ]
    },
    {
      "cell_type": "code",
      "metadata": {
        "id": "Jpoq0BMUaRmQ",
        "colab_type": "code",
        "colab": {}
      },
      "source": [
        "# write challenge 1 answer here"
      ],
      "execution_count": null,
      "outputs": []
    },
    {
      "cell_type": "code",
      "metadata": {
        "id": "HH5OwbDbaiOA",
        "colab_type": "code",
        "colab": {}
      },
      "source": [
        "# write challenge 2 answer here"
      ],
      "execution_count": null,
      "outputs": []
    },
    {
      "cell_type": "markdown",
      "metadata": {
        "id": "MvNn3gfOba0M",
        "colab_type": "text"
      },
      "source": [
        "Nice! 😄😄 So we managed to use Python to **help us count how many people have spoken in our chat group**!"
      ]
    },
    {
      "cell_type": "markdown",
      "metadata": {
        "id": "prdsTWzVbuIe",
        "colab_type": "text"
      },
      "source": [
        "But that was just a short introduction to the powers of BeautifulSoup. Let's get back to our task. **We need to count how many messages each user has sent.**"
      ]
    },
    {
      "cell_type": "code",
      "metadata": {
        "id": "AKcajTJTbagN",
        "colab_type": "code",
        "colab": {}
      },
      "source": [
        "raw_names[:15]"
      ],
      "execution_count": null,
      "outputs": []
    },
    {
      "cell_type": "markdown",
      "metadata": {
        "id": "wApNytJSZJ-r",
        "colab_type": "text"
      },
      "source": [
        "Let's look at this closely. Can we just take `raw_names`, count it, and then we'll get the right number of messages?"
      ]
    },
    {
      "cell_type": "code",
      "metadata": {
        "id": "pzm9mYuNdT7o",
        "colab_type": "code",
        "colab": {}
      },
      "source": [
        "all_messages = soup.select(\".message.default\")\n",
        "all_messages[:3]"
      ],
      "execution_count": null,
      "outputs": []
    },
    {
      "cell_type": "markdown",
      "metadata": {
        "id": "VK05q9MmjIzr",
        "colab_type": "text"
      },
      "source": [
        "How does 1 message look like?"
      ]
    },
    {
      "cell_type": "code",
      "metadata": {
        "id": "kT2WC7S_i3CP",
        "colab_type": "code",
        "colab": {}
      },
      "source": [
        "one_message = all_messages[2]\n",
        "one_message"
      ],
      "execution_count": null,
      "outputs": []
    },
    {
      "cell_type": "code",
      "metadata": {
        "id": "o0ccOSZWjLrT",
        "colab_type": "code",
        "colab": {}
      },
      "source": [
        "one_message.select(\".from_name\")"
      ],
      "execution_count": null,
      "outputs": []
    },
    {
      "cell_type": "code",
      "metadata": {
        "id": "IQuOisTFjYPs",
        "colab_type": "code",
        "colab": {}
      },
      "source": [
        "one_message.select(\".from_name\")[0].contents[0].strip()"
      ],
      "execution_count": null,
      "outputs": []
    },
    {
      "cell_type": "markdown",
      "metadata": {
        "id": "uECdjpG5j4kC",
        "colab_type": "text"
      },
      "source": [
        "Let's print every message's sender"
      ]
    },
    {
      "cell_type": "code",
      "metadata": {
        "id": "dBnjvtKHjqkM",
        "colab_type": "code",
        "colab": {}
      },
      "source": [
        "for message in all_messages:\n",
        "    print(message.select(\".from_name\")[0].contents[0].strip())"
      ],
      "execution_count": null,
      "outputs": []
    },
    {
      "cell_type": "code",
      "metadata": {
        "id": "HPuu76eKkEzB",
        "colab_type": "code",
        "colab": {}
      },
      "source": [
        "for message in all_messages:\n",
        "    print(message.select(\".from_name\"))"
      ],
      "execution_count": null,
      "outputs": []
    },
    {
      "cell_type": "code",
      "metadata": {
        "id": "omAlH4TpkR_S",
        "colab_type": "code",
        "colab": {}
      },
      "source": [
        "for message in all_messages:\n",
        "    sender = message.select(\".from_name\");\n",
        "    if not sender:\n",
        "        # message has no sender\n",
        "        print(\"someone sent this\")\n",
        "    else:\n",
        "        # message has sender\n",
        "        print(sender[0].contents[0].strip())"
      ],
      "execution_count": null,
      "outputs": []
    },
    {
      "cell_type": "markdown",
      "metadata": {
        "id": "-IpAKrwJmObQ",
        "colab_type": "text"
      },
      "source": [
        "Great! We are getting somewhere!\n",
        "\n",
        "**Challenge 3:** Let's change all the \"someone sent this\" to the last seen name. How do we do this?"
      ]
    },
    {
      "cell_type": "code",
      "metadata": {
        "id": "crEOsQnskpGn",
        "colab_type": "code",
        "colab": {}
      },
      "source": [
        "# same code snippet as just now, edit the code here!\n",
        "\n",
        "for message in all_messages:\n",
        "    sender = message.select(\".from_name\");\n",
        "    if not sender:\n",
        "        # message has no sender\n",
        "        print(\"someone sent this\")\n",
        "    else:\n",
        "        # message has sender\n",
        "        print(sender[0].contents[0].strip())"
      ],
      "execution_count": null,
      "outputs": []
    },
    {
      "cell_type": "markdown",
      "metadata": {
        "id": "kcjWHSJQnWHG",
        "colab_type": "text"
      },
      "source": [
        "Now that we know how to get the right names associated with each message, let's try to count them.\n",
        "\n",
        "First, let's convert the names into a proper list of names."
      ]
    },
    {
      "cell_type": "code",
      "metadata": {
        "id": "Iyd7iGssnVI4",
        "colab_type": "code",
        "colab": {}
      },
      "source": [
        "last_seen_sender = ''\n",
        "all_names = []\n",
        "\n",
        "for message in all_messages:\n",
        "    sender = message.select(\".from_name\");\n",
        "    if not sender:\n",
        "        # message has no sender\n",
        "        all_names.append(last_seen_sender)\n",
        "    else:\n",
        "        # message has sender\n",
        "        last_seen_sender = sender[0].contents[0].strip()\n",
        "        all_names.append(last_seen_sender)\n",
        "\n",
        "all_names"
      ],
      "execution_count": null,
      "outputs": []
    },
    {
      "cell_type": "code",
      "metadata": {
        "id": "fpTDZqQvlXlh",
        "colab_type": "code",
        "colab": {}
      },
      "source": [
        "len(all_names) == len(all_messages)"
      ],
      "execution_count": null,
      "outputs": []
    },
    {
      "cell_type": "markdown",
      "metadata": {
        "id": "_EtGlj3boN0T",
        "colab_type": "text"
      },
      "source": [
        "So now, we have a proper list of names, how do we count?"
      ]
    },
    {
      "cell_type": "code",
      "metadata": {
        "id": "3iosuOkaoKPM",
        "colab_type": "code",
        "colab": {}
      },
      "source": [
        "import pandas as pd"
      ],
      "execution_count": null,
      "outputs": []
    },
    {
      "cell_type": "markdown",
      "metadata": {
        "id": "fMcGzTMKoV0o",
        "colab_type": "text"
      },
      "source": [
        "Pandas is a very popular data wrangling library in Python. This is a library that can make it super easy for us to count stuff."
      ]
    },
    {
      "cell_type": "code",
      "metadata": {
        "id": "-EReXSRJoVW5",
        "colab_type": "code",
        "colab": {}
      },
      "source": [
        "df = pd.DataFrame(all_names)\n",
        "df"
      ],
      "execution_count": null,
      "outputs": []
    },
    {
      "cell_type": "code",
      "metadata": {
        "id": "Fd1txPIQopot",
        "colab_type": "code",
        "colab": {}
      },
      "source": [
        "df[0].value_counts()"
      ],
      "execution_count": null,
      "outputs": []
    },
    {
      "cell_type": "markdown",
      "metadata": {
        "id": "1Zj_RX7Qo7yR",
        "colab_type": "text"
      },
      "source": [
        "Yay we achieved our task! But wait, now your boss wants to see your work, so you can't possibly just send him in this format right?"
      ]
    },
    {
      "cell_type": "code",
      "metadata": {
        "id": "F60NrpD9owAl",
        "colab_type": "code",
        "colab": {}
      },
      "source": [
        "df[0].value_counts().plot(kind='bar', figsize=(12, 5))"
      ],
      "execution_count": null,
      "outputs": []
    },
    {
      "cell_type": "markdown",
      "metadata": {
        "id": "z1rWyrDgpuxV",
        "colab_type": "text"
      },
      "source": [
        "Are we done yet?\n",
        "\n",
        "**No! We only did it on 1/9 files!**\n",
        "\n",
        "But relax! This is Python, so it should be very easy for you to repeat the same thing 9 times right?"
      ]
    },
    {
      "cell_type": "code",
      "metadata": {
        "id": "9soqz0qopIKE",
        "colab_type": "code",
        "colab": {}
      },
      "source": [
        "exported_message_files"
      ],
      "execution_count": null,
      "outputs": []
    },
    {
      "cell_type": "code",
      "metadata": {
        "id": "rYLHzxNCp_-f",
        "colab_type": "code",
        "colab": {}
      },
      "source": [
        "all_names = [] # we keep this outside the for loop, so that it keeps\n",
        "# track of all names across all files\n",
        "\n",
        "last_seen_sender = ''\n",
        "\n",
        "for message_file in exported_message_files:\n",
        "    # use bsoup to open up individual HTML file\n",
        "    soup = BeautifulSoup(open(message_file, \"r\"))\n",
        "\n",
        "    # select all messages\n",
        "    all_messages = soup.select(\".message.default\")\n",
        "\n",
        "    # process every individual message\n",
        "    for message in all_messages:\n",
        "        sender = message.select(\".from_name\");\n",
        "        if not sender:\n",
        "            # message has no sender\n",
        "            all_names.append(last_seen_sender)\n",
        "        else:\n",
        "            # message has sender\n",
        "            last_seen_sender = sender[0].contents[0].strip()\n",
        "            all_names.append(last_seen_sender)\n",
        "\n",
        "len(all_names)"
      ],
      "execution_count": null,
      "outputs": []
    },
    {
      "cell_type": "code",
      "metadata": {
        "id": "3-qCzDuerLxY",
        "colab_type": "code",
        "colab": {}
      },
      "source": [
        "df = pd.DataFrame(all_names)\n",
        "df[0].value_counts()"
      ],
      "execution_count": null,
      "outputs": []
    },
    {
      "cell_type": "code",
      "metadata": {
        "id": "v4TWPE6Prbst",
        "colab_type": "code",
        "colab": {}
      },
      "source": [
        "df[0].value_counts().plot(kind='bar', figsize=(24, 5))"
      ],
      "execution_count": null,
      "outputs": []
    },
    {
      "cell_type": "markdown",
      "metadata": {
        "id": "BPHlmQbSsEPF",
        "colab_type": "text"
      },
      "source": [
        "Can you spot your name there? 😇😇\n",
        "\n",
        "😡😡 If you don't spot your name there 😡😡\n",
        "\n",
        "Do join us at our Telegram chat at t.me/nushackers_chat! 😇😇\n",
        "\n",
        "Great job on completing this! There are many other cool things you can do with this:\n",
        "1. Can you generate a word cloud of the messages?\n",
        "1. Can you generate a chart of the group's average chat activity at different timings?\n",
        "1. Can you feed all the messages that is discussed into a machine learning model, and make the machine learning model \"talk like a NUS Hacker\"?"
      ]
    },
    {
      "cell_type": "code",
      "metadata": {
        "id": "EheSYFdIsHDm",
        "colab_type": "code",
        "colab": {}
      },
      "source": [
        ""
      ],
      "execution_count": null,
      "outputs": []
    }
  ]
}